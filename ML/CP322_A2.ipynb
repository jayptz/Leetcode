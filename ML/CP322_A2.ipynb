{
 "cells": [
  {
   "cell_type": "markdown",
   "id": "6393be37",
   "metadata": {},
   "source": [
    "\n",
    "# CP322 — Assignment 2: Fake vs Real News Classification\n",
    "\n",
    "**Dataset:** Fake and Real News — Kaggle  \n",
    "**Goal:** Build classifiers (Naive Bayes, Logistic Regression, MLP) to detect fake news from text.  \n",
    "**Student:** Jay Patel\n"
   ]
  },
  {
   "cell_type": "code",
   "execution_count": 1,
   "id": "bb98f5fb",
   "metadata": {},
   "outputs": [
    {
     "name": "stdout",
     "output_type": "stream",
     "text": [
      "/usr/local/bin/python3.11\n"
     ]
    }
   ],
   "source": [
    "import sys\n",
    "print(sys.executable)"
   ]
  },
  {
   "cell_type": "code",
   "execution_count": 2,
   "id": "d6750bfb",
   "metadata": {},
   "outputs": [
    {
     "name": "stdout",
     "output_type": "stream",
     "text": [
      "Requirement already satisfied: nltk in /Library/Frameworks/Python.framework/Versions/3.11/lib/python3.11/site-packages (3.9.2)\n",
      "Requirement already satisfied: click in /Library/Frameworks/Python.framework/Versions/3.11/lib/python3.11/site-packages (from nltk) (8.3.0)\n",
      "Requirement already satisfied: joblib in /Library/Frameworks/Python.framework/Versions/3.11/lib/python3.11/site-packages (from nltk) (1.5.2)\n",
      "Requirement already satisfied: regex>=2021.8.3 in /Library/Frameworks/Python.framework/Versions/3.11/lib/python3.11/site-packages (from nltk) (2025.10.23)\n",
      "Requirement already satisfied: tqdm in /Library/Frameworks/Python.framework/Versions/3.11/lib/python3.11/site-packages (from nltk) (4.67.1)\n",
      "Note: you may need to restart the kernel to use updated packages.\n"
     ]
    }
   ],
   "source": [
    "pip install nltk\n"
   ]
  },
  {
   "cell_type": "code",
   "execution_count": null,
   "id": "fbbd7216",
   "metadata": {},
   "outputs": [],
   "source": []
  },
  {
   "cell_type": "code",
   "execution_count": 3,
   "id": "0793a454",
   "metadata": {},
   "outputs": [
    {
     "name": "stdout",
     "output_type": "stream",
     "text": [
      "3.9.2\n"
     ]
    }
   ],
   "source": [
    "import nltk\n",
    "print(nltk.__version__)"
   ]
  },
  {
   "cell_type": "code",
   "execution_count": 4,
   "id": "3709f15b",
   "metadata": {},
   "outputs": [
    {
     "name": "stdout",
     "output_type": "stream",
     "text": [
      "Requirement already satisfied: torch in /Library/Frameworks/Python.framework/Versions/3.11/lib/python3.11/site-packages (2.9.0)\n",
      "Requirement already satisfied: torchvision in /Library/Frameworks/Python.framework/Versions/3.11/lib/python3.11/site-packages (0.24.0)\n",
      "Requirement already satisfied: torchaudio in /Library/Frameworks/Python.framework/Versions/3.11/lib/python3.11/site-packages (2.9.0)\n",
      "Requirement already satisfied: filelock in /Library/Frameworks/Python.framework/Versions/3.11/lib/python3.11/site-packages (from torch) (3.20.0)\n",
      "Requirement already satisfied: typing-extensions>=4.10.0 in /Library/Frameworks/Python.framework/Versions/3.11/lib/python3.11/site-packages (from torch) (4.15.0)\n",
      "Requirement already satisfied: sympy>=1.13.3 in /Library/Frameworks/Python.framework/Versions/3.11/lib/python3.11/site-packages (from torch) (1.14.0)\n",
      "Requirement already satisfied: networkx>=2.5.1 in /Library/Frameworks/Python.framework/Versions/3.11/lib/python3.11/site-packages (from torch) (3.5)\n",
      "Requirement already satisfied: jinja2 in /Library/Frameworks/Python.framework/Versions/3.11/lib/python3.11/site-packages (from torch) (3.1.6)\n",
      "Requirement already satisfied: fsspec>=0.8.5 in /Library/Frameworks/Python.framework/Versions/3.11/lib/python3.11/site-packages (from torch) (2025.9.0)\n",
      "Requirement already satisfied: numpy in /Library/Frameworks/Python.framework/Versions/3.11/lib/python3.11/site-packages (from torchvision) (1.26.4)\n",
      "Requirement already satisfied: pillow!=8.3.*,>=5.3.0 in /Library/Frameworks/Python.framework/Versions/3.11/lib/python3.11/site-packages (from torchvision) (11.3.0)\n",
      "Requirement already satisfied: mpmath<1.4,>=1.1.0 in /Library/Frameworks/Python.framework/Versions/3.11/lib/python3.11/site-packages (from sympy>=1.13.3->torch) (1.3.0)\n",
      "Requirement already satisfied: MarkupSafe>=2.0 in /Library/Frameworks/Python.framework/Versions/3.11/lib/python3.11/site-packages (from jinja2->torch) (3.0.2)\n",
      "Note: you may need to restart the kernel to use updated packages.\n"
     ]
    }
   ],
   "source": [
    "pip install torch torchvision torchaudio"
   ]
  },
  {
   "cell_type": "code",
   "execution_count": 5,
   "id": "a9b8aed8",
   "metadata": {},
   "outputs": [
    {
     "name": "stdout",
     "output_type": "stream",
     "text": [
      "2.9.0\n"
     ]
    }
   ],
   "source": [
    "import torch\n",
    "print(torch.__version__)"
   ]
  },
  {
   "cell_type": "code",
   "execution_count": 6,
   "id": "497c9f66",
   "metadata": {},
   "outputs": [
    {
     "name": "stdout",
     "output_type": "stream",
     "text": [
      "Requirement already satisfied: numpy in /Library/Frameworks/Python.framework/Versions/3.11/lib/python3.11/site-packages (1.26.4)\n",
      "Requirement already satisfied: pandas in /Library/Frameworks/Python.framework/Versions/3.11/lib/python3.11/site-packages (2.2.3)\n",
      "Requirement already satisfied: matplotlib in /Library/Frameworks/Python.framework/Versions/3.11/lib/python3.11/site-packages (3.10.6)\n",
      "Requirement already satisfied: scikit-learn in /Library/Frameworks/Python.framework/Versions/3.11/lib/python3.11/site-packages (1.7.2)\n",
      "Requirement already satisfied: nltk in /Library/Frameworks/Python.framework/Versions/3.11/lib/python3.11/site-packages (3.9.2)\n",
      "Requirement already satisfied: torch in /Library/Frameworks/Python.framework/Versions/3.11/lib/python3.11/site-packages (2.9.0)\n",
      "Requirement already satisfied: torchvision in /Library/Frameworks/Python.framework/Versions/3.11/lib/python3.11/site-packages (0.24.0)\n",
      "Requirement already satisfied: torchaudio in /Library/Frameworks/Python.framework/Versions/3.11/lib/python3.11/site-packages (2.9.0)\n",
      "Requirement already satisfied: python-dateutil>=2.8.2 in /Library/Frameworks/Python.framework/Versions/3.11/lib/python3.11/site-packages (from pandas) (2.9.0.post0)\n",
      "Requirement already satisfied: pytz>=2020.1 in /Library/Frameworks/Python.framework/Versions/3.11/lib/python3.11/site-packages (from pandas) (2024.2)\n",
      "Requirement already satisfied: tzdata>=2022.7 in /Library/Frameworks/Python.framework/Versions/3.11/lib/python3.11/site-packages (from pandas) (2024.2)\n",
      "Requirement already satisfied: contourpy>=1.0.1 in /Library/Frameworks/Python.framework/Versions/3.11/lib/python3.11/site-packages (from matplotlib) (1.3.3)\n",
      "Requirement already satisfied: cycler>=0.10 in /Library/Frameworks/Python.framework/Versions/3.11/lib/python3.11/site-packages (from matplotlib) (0.12.1)\n",
      "Requirement already satisfied: fonttools>=4.22.0 in /Library/Frameworks/Python.framework/Versions/3.11/lib/python3.11/site-packages (from matplotlib) (4.60.0)\n",
      "Requirement already satisfied: kiwisolver>=1.3.1 in /Library/Frameworks/Python.framework/Versions/3.11/lib/python3.11/site-packages (from matplotlib) (1.4.9)\n",
      "Requirement already satisfied: packaging>=20.0 in /Library/Frameworks/Python.framework/Versions/3.11/lib/python3.11/site-packages (from matplotlib) (25.0)\n",
      "Requirement already satisfied: pillow>=8 in /Library/Frameworks/Python.framework/Versions/3.11/lib/python3.11/site-packages (from matplotlib) (11.3.0)\n",
      "Requirement already satisfied: pyparsing>=2.3.1 in /Library/Frameworks/Python.framework/Versions/3.11/lib/python3.11/site-packages (from matplotlib) (3.2.0)\n",
      "Requirement already satisfied: scipy>=1.8.0 in /Library/Frameworks/Python.framework/Versions/3.11/lib/python3.11/site-packages (from scikit-learn) (1.16.2)\n",
      "Requirement already satisfied: joblib>=1.2.0 in /Library/Frameworks/Python.framework/Versions/3.11/lib/python3.11/site-packages (from scikit-learn) (1.5.2)\n",
      "Requirement already satisfied: threadpoolctl>=3.1.0 in /Library/Frameworks/Python.framework/Versions/3.11/lib/python3.11/site-packages (from scikit-learn) (3.6.0)\n",
      "Requirement already satisfied: click in /Library/Frameworks/Python.framework/Versions/3.11/lib/python3.11/site-packages (from nltk) (8.3.0)\n",
      "Requirement already satisfied: regex>=2021.8.3 in /Library/Frameworks/Python.framework/Versions/3.11/lib/python3.11/site-packages (from nltk) (2025.10.23)\n",
      "Requirement already satisfied: tqdm in /Library/Frameworks/Python.framework/Versions/3.11/lib/python3.11/site-packages (from nltk) (4.67.1)\n",
      "Requirement already satisfied: filelock in /Library/Frameworks/Python.framework/Versions/3.11/lib/python3.11/site-packages (from torch) (3.20.0)\n",
      "Requirement already satisfied: typing-extensions>=4.10.0 in /Library/Frameworks/Python.framework/Versions/3.11/lib/python3.11/site-packages (from torch) (4.15.0)\n",
      "Requirement already satisfied: sympy>=1.13.3 in /Library/Frameworks/Python.framework/Versions/3.11/lib/python3.11/site-packages (from torch) (1.14.0)\n",
      "Requirement already satisfied: networkx>=2.5.1 in /Library/Frameworks/Python.framework/Versions/3.11/lib/python3.11/site-packages (from torch) (3.5)\n",
      "Requirement already satisfied: jinja2 in /Library/Frameworks/Python.framework/Versions/3.11/lib/python3.11/site-packages (from torch) (3.1.6)\n",
      "Requirement already satisfied: fsspec>=0.8.5 in /Library/Frameworks/Python.framework/Versions/3.11/lib/python3.11/site-packages (from torch) (2025.9.0)\n",
      "Requirement already satisfied: six>=1.5 in /Library/Frameworks/Python.framework/Versions/3.11/lib/python3.11/site-packages (from python-dateutil>=2.8.2->pandas) (1.16.0)\n",
      "Requirement already satisfied: mpmath<1.4,>=1.1.0 in /Library/Frameworks/Python.framework/Versions/3.11/lib/python3.11/site-packages (from sympy>=1.13.3->torch) (1.3.0)\n",
      "Requirement already satisfied: MarkupSafe>=2.0 in /Library/Frameworks/Python.framework/Versions/3.11/lib/python3.11/site-packages (from jinja2->torch) (3.0.2)\n",
      "Note: you may need to restart the kernel to use updated packages.\n"
     ]
    }
   ],
   "source": [
    "pip install numpy pandas matplotlib scikit-learn nltk torch torchvision torchaudio\n"
   ]
  },
  {
   "cell_type": "markdown",
   "id": "f55d8b15",
   "metadata": {},
   "source": [
    "## 0) Setup & Imports"
   ]
  },
  {
   "cell_type": "code",
   "execution_count": null,
   "id": "d20243f0",
   "metadata": {},
   "outputs": [],
   "source": [
    "import os, random, re, string, math\n",
    "import numpy as np\n",
    "import pandas as pd\n",
    "import matplotlib.pyplot as plt\n",
    "\n",
    "from sklearn.model_selection import train_test_split  \n",
    "from sklearn.metrics import (\n",
    "    accuracy_score, precision_score, recall_score, f1_score,\n",
    "    roc_auc_score, confusion_matrix, RocCurveDisplay\n",
    ")\n",
    "from sklearn.feature_extraction.text import TfidfVectorizer\n",
    "from sklearn.linear_model import LogisticRegression\n",
    "from sklearn.naive_bayes import GaussianNB\n",
    "\n",
    "import torch\n",
    "import torch.nn as nn\n",
    "from torch.utils.data import TensorDataset, DataLoader\n",
    "\n",
    "plt.rcParams.update({\"figure.figsize\": (8, 5), \"axes.grid\": True})\n",
    "\n",
    "RANDOM_SEED = 19\n",
    "np.random.seed(RANDOM_SEED)\n",
    "random.seed(RANDOM_SEED)\n"
   ]
  },
  {
   "cell_type": "markdown",
   "id": "b1ca7ec9",
   "metadata": {},
   "source": [
    "## 1) Data Exploration & Preprocessing (5 pts)"
   ]
  },
  {
   "cell_type": "markdown",
   "id": "01a6bf44",
   "metadata": {},
   "source": [
    "\n",
    "### 1.1 Load & Merge\n",
    "Load `True.csv` (label=0) and `Fake.csv` (label=1). Keep `title` and `text` only.\n",
    "\n",
    "#### 1. Download the Fake/Real News dataset from Kaggle.\n",
    "#### 2. Load both files and focus on the title and text columns, ignoring subject and date. Assign label=1 for fake news and label=0 for real news. Merge these into a single dataset.\n",
    "#### 3. To demonstrate class imbalance, randomly undersample 20,000 real news and 1,000 fake news, and combine them into a new DataFrame. Use bar plot to show the distribution of labels after downsampling\n"
   ]
  },
  {
   "cell_type": "code",
   "execution_count": 12,
   "id": "65905954",
   "metadata": {},
   "outputs": [
    {
     "name": "stdout",
     "output_type": "stream",
     "text": [
      "Full dataset shape: (44898, 3)\n"
     ]
    },
    {
     "data": {
      "text/html": [
       "<div>\n",
       "<style scoped>\n",
       "    .dataframe tbody tr th:only-of-type {\n",
       "        vertical-align: middle;\n",
       "    }\n",
       "\n",
       "    .dataframe tbody tr th {\n",
       "        vertical-align: top;\n",
       "    }\n",
       "\n",
       "    .dataframe thead th {\n",
       "        text-align: right;\n",
       "    }\n",
       "</style>\n",
       "<table border=\"1\" class=\"dataframe\">\n",
       "  <thead>\n",
       "    <tr style=\"text-align: right;\">\n",
       "      <th></th>\n",
       "      <th>title</th>\n",
       "      <th>text</th>\n",
       "      <th>label</th>\n",
       "    </tr>\n",
       "  </thead>\n",
       "  <tbody>\n",
       "    <tr>\n",
       "      <th>0</th>\n",
       "      <td>Donald Trump Sends Out Embarrassing New Year’s Eve Mess...</td>\n",
       "      <td>Donald Trump just couldn t wish all Americans a Happy Ne...</td>\n",
       "      <td>1</td>\n",
       "    </tr>\n",
       "    <tr>\n",
       "      <th>1</th>\n",
       "      <td>Drunk Bragging Trump Staffer Started Russian Collusion ...</td>\n",
       "      <td>House Intelligence Committee Chairman Devin Nunes is goi...</td>\n",
       "      <td>1</td>\n",
       "    </tr>\n",
       "    <tr>\n",
       "      <th>2</th>\n",
       "      <td>Sheriff David Clarke Becomes An Internet Joke For Threa...</td>\n",
       "      <td>On Friday, it was revealed that former Milwaukee Sheriff...</td>\n",
       "      <td>1</td>\n",
       "    </tr>\n",
       "    <tr>\n",
       "      <th>3</th>\n",
       "      <td>Trump Is So Obsessed He Even Has Obama’s Name Coded Int...</td>\n",
       "      <td>On Christmas day, Donald Trump announced that he would  ...</td>\n",
       "      <td>1</td>\n",
       "    </tr>\n",
       "    <tr>\n",
       "      <th>4</th>\n",
       "      <td>Pope Francis Just Called Out Donald Trump During His Ch...</td>\n",
       "      <td>Pope Francis used his annual Christmas Day message to re...</td>\n",
       "      <td>1</td>\n",
       "    </tr>\n",
       "  </tbody>\n",
       "</table>\n",
       "</div>"
      ],
      "text/plain": [
       "                                                         title  \\\n",
       "0   Donald Trump Sends Out Embarrassing New Year’s Eve Mess...   \n",
       "1   Drunk Bragging Trump Staffer Started Russian Collusion ...   \n",
       "2   Sheriff David Clarke Becomes An Internet Joke For Threa...   \n",
       "3   Trump Is So Obsessed He Even Has Obama’s Name Coded Int...   \n",
       "4   Pope Francis Just Called Out Donald Trump During His Ch...   \n",
       "\n",
       "                                                          text  label  \n",
       "0  Donald Trump just couldn t wish all Americans a Happy Ne...      1  \n",
       "1  House Intelligence Committee Chairman Devin Nunes is goi...      1  \n",
       "2  On Friday, it was revealed that former Milwaukee Sheriff...      1  \n",
       "3  On Christmas day, Donald Trump announced that he would  ...      1  \n",
       "4  Pope Francis used his annual Christmas Day message to re...      1  "
      ]
     },
     "execution_count": 12,
     "metadata": {},
     "output_type": "execute_result"
    }
   ],
   "source": [
    "\n",
    "FAKE_PATH = \"Fake.csv\"\n",
    "REAL_PATH = \"True.csv\"\n",
    "\n",
    "df_fake = pd.read_csv(FAKE_PATH, usecols=[\"title\", \"text\"])\n",
    "df_real = pd.read_csv(REAL_PATH, usecols=[\"title\", \"text\"])\n",
    "df_fake[\"label\"] = 1  # fake -> 1\n",
    "df_real[\"label\"] = 0  # real -> 0\n",
    "\n",
    "df_all = pd.concat([df_fake, df_real], ignore_index=True)\n",
    "print(\"Full dataset shape:\", df_all.shape)\n",
    "df_all.head()\n"
   ]
  },
  {
   "cell_type": "markdown",
   "id": "250c0ad6",
   "metadata": {},
   "source": [
    "### 1.2 Class Distribution & Missing Values\n",
    "\n",
    "#### 1. Check for missing values (e.g., empty titles or text).\n",
    "#### 2. Decide whether to drop or impute missing data based on the observation and give an explanation"
   ]
  },
  {
   "cell_type": "code",
   "execution_count": 13,
   "id": "f0198954",
   "metadata": {},
   "outputs": [
    {
     "data": {
      "image/png": "[encoded data removed]",
      "text/plain": [
       "<Figure size 800x500 with 1 Axes>"
      ]
     },
     "metadata": {},
     "output_type": "display_data"
    }
   ],
   "source": [
    "\n",
    "real_sample_n = min(20000, (df_all[\"label\"]==0).sum())\n",
    "fake_sample_n = min(1000,  (df_all[\"label\"]==1).sum())\n",
    "\n",
    "df_real_ds = df_all[df_all[\"label\"]==0].sample(real_sample_n, random_state=RANDOM_SEED)\n",
    "df_fake_ds = df_all[df_all[\"label\"]==1].sample(fake_sample_n, random_state=RANDOM_SEED)\n",
    "df_ds = shuffle(pd.concat([df_real_ds, df_fake_ds], ignore_index=True), random_state=RANDOM_SEED)\n",
    "\n",
    "\n",
    "vc = df_ds[\"label\"].value_counts().sort_index()\n",
    "plt.bar([\"real (0)\", \"fake (1)\"], vc.values)\n",
    "plt.title(\"Label distribution after undersampling\")\n",
    "plt.ylabel(\"count\")\n",
    "plt.show()\n"
   ]
  },
  {
   "cell_type": "markdown",
   "id": "b0471c7a",
   "metadata": {},
   "source": [
    "### 1.3 Text Preprocessing (tokenize, lowercase, stopwords, lemmatize)\n",
    "\n",
    "#### 1. Tokenize the text.\n",
    "\n",
    "#### 2. Remove stopwords (English).\n",
    "#### 3. Lemmatize with WordNetLemmatizer()\n",
    "#### 4. Convert text to lowercase.\n",
    "#### 5. Show the top-5 rows of the DataFrame"
   ]
  },
  {
   "cell_type": "code",
   "execution_count": null,
   "id": "e21c8213",
   "metadata": {},
   "outputs": [
    {
     "ename": "NameError",
     "evalue": "name '_base' is not defined",
     "output_type": "error",
     "traceback": [
      "\u001b[31m---------------------------------------------------------------------------\u001b[39m",
      "\u001b[31mNameError\u001b[39m                                 Traceback (most recent call last)",
      "\u001b[36mCell\u001b[39m\u001b[36m \u001b[39m\u001b[32mIn[14]\u001b[39m\u001b[32m, line 8\u001b[39m\n\u001b[32m      5\u001b[39m     parts = s.str.split()\n\u001b[32m      6\u001b[39m     \u001b[38;5;28;01mreturn\u001b[39;00m parts.str[:k].str.join(\u001b[33m'\u001b[39m\u001b[33m \u001b[39m\u001b[33m'\u001b[39m) + np.where(parts.str.len() > k, \u001b[33m'\u001b[39m\u001b[33m …\u001b[39m\u001b[33m'\u001b[39m, \u001b[33m'\u001b[39m\u001b[33m'\u001b[39m)\n\u001b[32m----> \u001b[39m\u001b[32m8\u001b[39m preview = \u001b[43m_base\u001b[49m[[\u001b[33m\"\u001b[39m\u001b[33mlabel\u001b[39m\u001b[33m\"\u001b[39m,\u001b[33m\"\u001b[39m\u001b[33mtitle\u001b[39m\u001b[33m\"\u001b[39m,\u001b[33m\"\u001b[39m\u001b[33mtext_clean\u001b[39m\u001b[33m\"\u001b[39m]].copy()\n\u001b[32m      9\u001b[39m preview[\u001b[33m\"\u001b[39m\u001b[33mtitle\u001b[39m\u001b[33m\"\u001b[39m] = first_words(preview[\u001b[33m\"\u001b[39m\u001b[33mtitle\u001b[39m\u001b[33m\"\u001b[39m], \u001b[32m12\u001b[39m)\n\u001b[32m     10\u001b[39m preview[\u001b[33m\"\u001b[39m\u001b[33mtext_clean\u001b[39m\u001b[33m\"\u001b[39m] = first_words(preview[\u001b[33m\"\u001b[39m\u001b[33mtext_clean\u001b[39m\u001b[33m\"\u001b[39m], \u001b[32m20\u001b[39m)\n",
      "\u001b[31mNameError\u001b[39m: name '_base' is not defined"
     ]
    }
   ],
   "source": [
    "# --- 1.3 Text Preprocessing (no NLTK; regex tokenizer, concise preview) ---\n",
    "\n",
    "# 1) Pick the working dataframe (expects columns: title, text, label)\n",
    "if 'df' in locals():\n",
    "    _base = df\n",
    "elif 'df_ds' in locals():\n",
    "    _base = df_ds\n",
    "else:\n",
    "    raise NameError(\"No dataframe named 'df' or 'df_ds' found. Run 1.1/1.2 first.\")\n",
    "\n",
    "req = {\"title\", \"text\", \"label\"}\n",
    "missing = req - set(_base.columns)\n",
    "if missing:\n",
    "    raise KeyError(f\"Missing columns: {missing}. Ensure your data has title, text, label.\")\n",
    "\n",
    "# 2) Lightweight stopword set (good enough for TF-IDF baseline)\n",
    "_stop = {\n",
    "    \"the\",\"a\",\"an\",\"and\",\"or\",\"but\",\"if\",\"while\",\"is\",\"are\",\"was\",\"were\",\"be\",\"been\",\n",
    "    \"to\",\"of\",\"in\",\"on\",\"for\",\"with\",\"as\",\"by\",\"at\",\"from\",\"that\",\"this\",\"it\",\"its\",\n",
    "    \"i\",\"you\",\"he\",\"she\",\"they\",\"we\",\"his\",\"her\",\"their\",\"our\",\"your\",\"not\"\n",
    "}\n",
    "\n",
    "def normalize_text(s: str) -> str:\n",
    "    # lowercase, remove punctuation, regex-tokenize alpha tokens, drop stopwords\n",
    "    s = s.lower()\n",
    "    s = s.translate(str.maketrans(\"\", \"\", string.punctuation))\n",
    "    tokens = re.findall(r\"[a-z]+\", s)\n",
    "    tokens = [t for t in tokens if t not in _stop]\n",
    "    return \" \".join(tokens)\n",
    "\n",
    "# 3) Combine title + text, then preprocess to text_clean\n",
    "_base[\"text_raw\"] = (_base[\"title\"].fillna(\"\") + \" \" + _base[\"text\"].fillna(\"\")).astype(str)\n",
    "_base[\"text_clean\"] = _base[\"text_raw\"].apply(normalize_text)\n",
    "\n",
    "# 4) Concise preview of the first 5 rows\n",
    "pd.set_option(\"display.max_colwidth\", 60)\n",
    "\n",
    "def first_words(s, k=20):\n",
    "    s = s.fillna('')\n",
    "    parts = s.str.split()\n",
    "    return parts.str[:k].str.join(' ') + np.where(parts.str.len() > k, ' …', '')\n",
    "\n",
    "preview = _base[[\"label\",\"title\",\"text_clean\"]].copy()\n",
    "preview[\"title\"] = first_words(preview[\"title\"], 12)\n",
    "preview[\"text_clean\"] = first_words(preview[\"text_clean\"], 20)\n",
    "\n",
    "try:\n",
    "    from IPython.display import display\n",
    "    display(preview.head(5))\n",
    "except Exception:\n",
    "    print(preview.head(5).to_string())\n"
   ]
  },
  {
   "cell_type": "markdown",
   "id": "2907468b",
   "metadata": {},
   "source": [
    "## 2) Feature Engineering (1 pt)\n",
    "\n",
    "#### 1. Bag-of-Words / TF-IDF Representation\n",
    "##### • Convert the processed text into numeric features using scikit-learn’s TfidfVectorizer.\n",
    "##### • Set parameters, such as ngram range of using unigram and max features=5000, etc.\n",
    "\n",
    "#### 2. Split into Training and Test Sets\n",
    "##### • Use an 80/20 split for training and test.\n",
    "##### • Keep in mind the class imbalance and apply stratified sampling"
   ]
  },
  {
   "cell_type": "code",
   "execution_count": null,
   "id": "fd49de1d",
   "metadata": {},
   "outputs": [
    {
     "name": "stdout",
     "output_type": "stream",
     "text": [
      "TF-IDF shape: (44898, 5000) | Train/Test: (35918, 5000) (8980, 5000)\n"
     ]
    }
   ],
   "source": [
    "\n",
    "_base = df if 'df' in locals() else (df_ds if 'df_ds' in locals() else None)\n",
    "assert _base is not None and {\"text_clean\",\"label\"}.issubset(_base.columns)\n",
    "\n",
    "tfidf = TfidfVectorizer(ngram_range=(1,1), max_features=5000)\n",
    "X = tfidf.fit_transform(_base[\"text_clean\"])\n",
    "y = _base[\"label\"].astype(int).values\n",
    "\n",
    "X_train, X_test, y_train, y_test = train_test_split(\n",
    "    X, y, test_size=0.2, stratify=y, random_state=19\n",
    ")\n",
    "print(\"TF-IDF shape:\", X.shape, \"| Train/Test:\", X_train.shape, X_test.shape)\n"
   ]
  },
  {
   "cell_type": "markdown",
   "id": "6931901d",
   "metadata": {},
   "source": [
    "## 3) Naive Bayes & Logistic Regression (2 pts)\n",
    "\n",
    "#### 1. Naive Bayesian\n",
    "##### • Train a GaussianNB classifier on the vectorized data.\n",
    "#### 2. Logistic Regression\n",
    "##### • Train a logistic regression classifier on the vectorized data. Use max iter=100 to allow the model to converge"
   ]
  },
  {
   "cell_type": "code",
   "execution_count": null,
   "id": "38b05445",
   "metadata": {},
   "outputs": [
    {
     "ename": "NameError",
     "evalue": "name 'X_train' is not defined",
     "output_type": "error",
     "traceback": [
      "\u001b[31m---------------------------------------------------------------------------\u001b[39m",
      "\u001b[31mNameError\u001b[39m                                 Traceback (most recent call last)",
      "\u001b[36mCell\u001b[39m\u001b[36m \u001b[39m\u001b[32mIn[12]\u001b[39m\u001b[32m, line 2\u001b[39m\n\u001b[32m      1\u001b[39m \u001b[38;5;66;03m# GaussianNB \u001b[39;00m\n\u001b[32m----> \u001b[39m\u001b[32m2\u001b[39m X_train_gnb = \u001b[43mX_train\u001b[49m.toarray().astype(np.float32)\n\u001b[32m      3\u001b[39m X_test_gnb  = X_test.toarray().astype(np.float32)\n\u001b[32m      5\u001b[39m gnb = GaussianNB()\n",
      "\u001b[31mNameError\u001b[39m: name 'X_train' is not defined"
     ]
    }
   ],
   "source": [
    "\n",
    "# GaussianNB \n",
    "X_train_gnb = X_train.toarray().astype(np.float32)\n",
    "X_test_gnb  = X_test.toarray().astype(np.float32)\n",
    "\n",
    "gnb = GaussianNB()\n",
    "gnb.fit(X_train_gnb, y_train)\n",
    "y_pred_gnb  = gnb.predict(X_test_gnb)\n",
    "y_proba_gnb = gnb.predict_proba(X_test_gnb)[:, 1]\n",
    "\n",
    "# Logistic Regression \n",
    "logreg = LogisticRegression(max_iter=100)\n",
    "logreg.fit(X_train, y_train)\n",
    "y_pred_lr  = logreg.predict(X_test)\n",
    "y_proba_lr = logreg.predict_proba(X_test)[:, 1]\n",
    "\n"
   ]
  },
  {
   "cell_type": "markdown",
   "id": "7cddb9b4",
   "metadata": {},
   "source": [
    "## 4) Multilayer Perceptron (PyTorch) (2 pts)\n",
    "\n",
    "\n",
    "####  1. Neural Network Architecture\n",
    "##### • The network should have two hidden layers, each with 128 units, using ReLU activations after the linear transfor- mations.\n",
    "##### • The output layer should have one unit with a sigmoid activation so that the model produces probabilities between 0 and 1.\n",
    "#### 2. Training and optimization\n",
    "##### • Use binary cross-entropy loss (nn.BCELoss) and optimize with Adam at a learning rate of 0.001.\n",
    "##### • Train the model for 20 epochs using the training data, making sure the input dimension matches the number of features in training data"
   ]
  },
  {
   "cell_type": "code",
   "execution_count": null,
   "id": "f1e269c2",
   "metadata": {},
   "outputs": [
    {
     "name": "stdout",
     "output_type": "stream",
     "text": [
      "Epoch 01 | loss = 0.2212\n",
      "Epoch 02 | loss = 0.0275\n",
      "Epoch 03 | loss = 0.0111\n",
      "Epoch 04 | loss = 0.0045\n",
      "Epoch 05 | loss = 0.0021\n",
      "Epoch 06 | loss = 0.0012\n",
      "Epoch 07 | loss = 0.0008\n",
      "Epoch 08 | loss = 0.0005\n",
      "Epoch 09 | loss = 0.0007\n",
      "Epoch 10 | loss = 0.0004\n",
      "Epoch 11 | loss = 0.0005\n",
      "Epoch 12 | loss = 0.0002\n",
      "Epoch 13 | loss = 0.0005\n",
      "Epoch 14 | loss = 0.0002\n",
      "Epoch 15 | loss = 0.0004\n",
      "Epoch 16 | loss = 0.0006\n",
      "Epoch 17 | loss = 0.0002\n",
      "Epoch 18 | loss = 0.0006\n",
      "Epoch 19 | loss = 0.0003\n",
      "Epoch 20 | loss = 0.0002\n"
     ]
    }
   ],
   "source": [
    "\n",
    "\n",
    "Xtr_dense = torch.tensor(X_train.toarray(), dtype=torch.float32)\n",
    "Xte_dense = torch.tensor(X_test.toarray(),  dtype=torch.float32)\n",
    "ytr_t = torch.tensor(y_train.reshape(-1, 1), dtype=torch.float32)\n",
    "\n",
    "input_dim = Xtr_dense.shape[1]\n",
    "\n",
    "class MLP(nn.Module):\n",
    "    def __init__(self, d_in):\n",
    "        super().__init__()\n",
    "        self.net = nn.Sequential(\n",
    "            nn.Linear(d_in, 128),\n",
    "            nn.ReLU(),\n",
    "            nn.Linear(128, 128),\n",
    "            nn.ReLU(),\n",
    "            nn.Linear(128, 1),\n",
    "            nn.Sigmoid(),  \n",
    "        )\n",
    "    def forward(self, x):\n",
    "        return self.net(x)\n",
    "\n",
    "device = torch.device(\"cuda\" if torch.cuda.is_available() else \"cpu\")\n",
    "model = MLP(input_dim).to(device)\n",
    "\n",
    "criterion = nn.BCELoss()\n",
    "optimizer = torch.optim.Adam(model.parameters(), lr=1e-3)\n",
    "\n",
    "train_ds = TensorDataset(Xtr_dense, ytr_t)\n",
    "train_loader = DataLoader(train_ds, batch_size=256, shuffle=True)\n",
    "\n",
    "epochs = 20\n",
    "model.train()\n",
    "for ep in range(1, epochs + 1):\n",
    "    total = 0.0\n",
    "    for xb, yb in train_loader:\n",
    "        xb = xb.to(device); yb = yb.to(device)\n",
    "        optimizer.zero_grad()\n",
    "        out = model(xb)\n",
    "        loss = criterion(out, yb)\n",
    "        loss.backward()\n",
    "        optimizer.step()\n",
    "        total += loss.item() * xb.size(0)\n",
    "    print(f\"Epoch {ep:02d} | loss = {total/len(train_ds):.4f}\")\n",
    "\n",
    "model.eval()\n",
    "with torch.no_grad():\n",
    "    proba_mlp = model(Xte_dense.to(device)).squeeze(1).cpu().numpy()\n",
    "pred_mlp = (proba_mlp >= 0.5).astype(int)\n",
    "\n"
   ]
  },
  {
   "cell_type": "markdown",
   "id": "81723a1b",
   "metadata": {},
   "source": [
    "## 5) Evaluation (5 pts)\n",
    "\n",
    "### 5.1 Metrics\n",
    "\n",
    "##### • Report above three models’ evaluation metrics including accuracy, precision, recall, F1-score, and AUC-ROC"
   ]
  },
  {
   "cell_type": "code",
   "execution_count": null,
   "id": "968dcb9a",
   "metadata": {},
   "outputs": [
    {
     "name": "stdout",
     "output_type": "stream",
     "text": [
      "[GaussianNB]  Acc=0.9214  Prec=0.9112  Rec=0.9414  F1=0.9261  AUC=0.9312\n",
      "[LogisticRegression]  Acc=0.9879  Prec=0.9906  Rec=0.9862  F1=0.9884  AUC=0.9989\n"
     ]
    }
   ],
   "source": [
    "\n",
    "def report_metrics(y_true, y_pred, y_proba, name):\n",
    "    acc = accuracy_score(y_true, y_pred)\n",
    "    pre = precision_score(y_true, y_pred, zero_division=0)\n",
    "    rec = recall_score(y_true, y_pred, zero_division=0)\n",
    "    f1  = f1_score(y_true, y_pred, zero_division=0)\n",
    "    auc = roc_auc_score(y_true, y_proba)\n",
    "    print(f\"[{name}]  Acc={acc:.4f}  Prec={pre:.4f}  Rec={rec:.4f}  F1={f1:.4f}  AUC={auc:.4f}\")\n",
    "    return acc, pre, rec, f1, auc\n",
    "\n",
    "m_gnb = report_metrics(y_test, y_pred_gnb, y_proba_gnb, \"GaussianNB\")\n",
    "m_lr  = report_metrics(y_test, y_pred_lr,  y_proba_lr,  \"LogisticRegression\")\n"
   ]
  },
  {
   "cell_type": "markdown",
   "id": "248bf670",
   "metadata": {},
   "source": [
    "### 5.2 Confusion Matricies\n",
    "\n",
    "##### • Plot the confusion matrix for all three methods.\n",
    "##### • Interpret false positives and false negatives for this imbalanced dataset.\n"
   ]
  },
  {
   "cell_type": "code",
   "execution_count": null,
   "id": "989cb409",
   "metadata": {},
   "outputs": [
    {
     "data": {
      "image/png": "[encoded data removed]",
      "text/plain": [
       "<Figure size 640x480 with 1 Axes>"
      ]
     },
     "metadata": {},
     "output_type": "display_data"
    },
    {
     "data": {
      "image/png": "[encoded data removed]",
      "text/plain": [
       "<Figure size 640x480 with 1 Axes>"
      ]
     },
     "metadata": {},
     "output_type": "display_data"
    }
   ],
   "source": [
    "\n",
    "def plot_cm(y_true, y_pred, title):\n",
    "    cm = confusion_matrix(y_true, y_pred)\n",
    "    fig, ax = plt.subplots()\n",
    "    im = ax.imshow(cm, cmap=\"Blues\")\n",
    "    ax.set_title(title)\n",
    "    ax.set_xlabel(\"Predicted\")\n",
    "    ax.set_ylabel(\"Actual\")\n",
    "    ax.set_xticks([0,1]); ax.set_yticks([0,1])\n",
    "    for (i,j), v in np.ndenumerate(cm):\n",
    "        ax.text(j, i, int(v), ha='center', va='center')\n",
    "    plt.show()\n",
    "\n",
    "plot_cm(y_test, y_pred_gnb, \"GaussianNB — Confusion Matrix\")\n",
    "plot_cm(y_test, y_pred_lr,  \"Logistic Regression — Confusion Matrix\")\n"
   ]
  },
  {
   "cell_type": "markdown",
   "id": "703a4eae",
   "metadata": {},
   "source": [
    "### 5.3 ROC curves\n",
    "\n",
    "##### • Draw ROC curves of three models in a single plot."
   ]
  },
  {
   "cell_type": "code",
   "execution_count": null,
   "id": "422ea9ad",
   "metadata": {},
   "outputs": [
    {
     "data": {
      "image/png": "[encoded data removed]",
      "text/plain": [
       "<Figure size 640x480 with 1 Axes>"
      ]
     },
     "metadata": {},
     "output_type": "display_data"
    }
   ],
   "source": [
    "\n",
    "fig, ax = plt.subplots()\n",
    "RocCurveDisplay.from_predictions(y_test, y_proba_gnb, name=\"GaussianNB\", ax=ax)\n",
    "RocCurveDisplay.from_predictions(y_test, y_proba_lr,  name=\"LogReg\",     ax=ax)\n",
    "ax.plot([0,1],[0,1],'--', linewidth=1)\n",
    "ax.set_title(\"ROC Curves\")\n",
    "plt.show()\n"
   ]
  }
 ],
 "metadata": {
  "kernelspec": {
   "display_name": "Python 3",
   "language": "python",
   "name": "python3"
  },
  "language_info": {
   "codemirror_mode": {
    "name": "ipython",
    "version": 3
   },
   "file_extension": ".py",
   "mimetype": "text/x-python",
   "name": "python",
   "nbconvert_exporter": "python",
   "pygments_lexer": "ipython3",
   "version": "3.11.5"
  }
 },
 "nbformat": 4,
 "nbformat_minor": 5
}
